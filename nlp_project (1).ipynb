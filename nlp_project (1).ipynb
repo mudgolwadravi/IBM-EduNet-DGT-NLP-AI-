{
  "nbformat": 4,
  "nbformat_minor": 0,
  "metadata": {
    "colab": {
      "provenance": []
    },
    "kernelspec": {
      "name": "python3",
      "display_name": "Python 3"
    },
    "language_info": {
      "name": "python"
    }
  },
  "cells": [
    {
      "cell_type": "code",
      "execution_count": 115,
      "metadata": {
        "id": "StE1_kMx_oPS"
      },
      "outputs": [],
      "source": [
        "import pandas as pd"
      ]
    },
    {
      "cell_type": "code",
      "source": [
        "import nltk\n",
        "from nltk.corpus import stopwords\n",
        "nltk.download('stopwords')\n",
        "from nltk.stem.porter import PorterStemmer"
      ],
      "metadata": {
        "colab": {
          "base_uri": "https://localhost:8080/"
        },
        "id": "QH3mZzSpGVi7",
        "outputId": "70335ed3-783e-4c1e-8b42-03dc5433c6e9"
      },
      "execution_count": 116,
      "outputs": [
        {
          "output_type": "stream",
          "name": "stderr",
          "text": [
            "[nltk_data] Downloading package stopwords to /root/nltk_data...\n",
            "[nltk_data]   Package stopwords is already up-to-date!\n"
          ]
        }
      ]
    },
    {
      "cell_type": "code",
      "source": [
        "import re"
      ],
      "metadata": {
        "id": "XwqwfIdeGZjN"
      },
      "execution_count": 117,
      "outputs": []
    },
    {
      "cell_type": "code",
      "source": [
        "df=pd.read_csv('Restaurant_Reviews 1.tsv',delimiter='\\t',quoting=3)"
      ],
      "metadata": {
        "id": "-bNplRw3GfKK"
      },
      "execution_count": 118,
      "outputs": []
    },
    {
      "cell_type": "code",
      "source": [
        "df.head()"
      ],
      "metadata": {
        "colab": {
          "base_uri": "https://localhost:8080/",
          "height": 206
        },
        "id": "Oui_1KwHGmf1",
        "outputId": "8796651b-3961-4d90-e5e2-3d999429b168"
      },
      "execution_count": 119,
      "outputs": [
        {
          "output_type": "execute_result",
          "data": {
            "text/plain": [
              "                                              Review  Liked\n",
              "0                           Wow... Loved this place.      1\n",
              "1                                 Crust is not good.      0\n",
              "2          Not tasty and the texture was just nasty.      0\n",
              "3  Stopped by during the late May bank holiday of...      1\n",
              "4  The selection on the menu was great and so wer...      1"
            ],
            "text/html": [
              "\n",
              "  <div id=\"df-3647b3fb-7e90-42a4-872d-1f8fc7f90ee9\" class=\"colab-df-container\">\n",
              "    <div>\n",
              "<style scoped>\n",
              "    .dataframe tbody tr th:only-of-type {\n",
              "        vertical-align: middle;\n",
              "    }\n",
              "\n",
              "    .dataframe tbody tr th {\n",
              "        vertical-align: top;\n",
              "    }\n",
              "\n",
              "    .dataframe thead th {\n",
              "        text-align: right;\n",
              "    }\n",
              "</style>\n",
              "<table border=\"1\" class=\"dataframe\">\n",
              "  <thead>\n",
              "    <tr style=\"text-align: right;\">\n",
              "      <th></th>\n",
              "      <th>Review</th>\n",
              "      <th>Liked</th>\n",
              "    </tr>\n",
              "  </thead>\n",
              "  <tbody>\n",
              "    <tr>\n",
              "      <th>0</th>\n",
              "      <td>Wow... Loved this place.</td>\n",
              "      <td>1</td>\n",
              "    </tr>\n",
              "    <tr>\n",
              "      <th>1</th>\n",
              "      <td>Crust is not good.</td>\n",
              "      <td>0</td>\n",
              "    </tr>\n",
              "    <tr>\n",
              "      <th>2</th>\n",
              "      <td>Not tasty and the texture was just nasty.</td>\n",
              "      <td>0</td>\n",
              "    </tr>\n",
              "    <tr>\n",
              "      <th>3</th>\n",
              "      <td>Stopped by during the late May bank holiday of...</td>\n",
              "      <td>1</td>\n",
              "    </tr>\n",
              "    <tr>\n",
              "      <th>4</th>\n",
              "      <td>The selection on the menu was great and so wer...</td>\n",
              "      <td>1</td>\n",
              "    </tr>\n",
              "  </tbody>\n",
              "</table>\n",
              "</div>\n",
              "    <div class=\"colab-df-buttons\">\n",
              "\n",
              "  <div class=\"colab-df-container\">\n",
              "    <button class=\"colab-df-convert\" onclick=\"convertToInteractive('df-3647b3fb-7e90-42a4-872d-1f8fc7f90ee9')\"\n",
              "            title=\"Convert this dataframe to an interactive table.\"\n",
              "            style=\"display:none;\">\n",
              "\n",
              "  <svg xmlns=\"http://www.w3.org/2000/svg\" height=\"24px\" viewBox=\"0 -960 960 960\">\n",
              "    <path d=\"M120-120v-720h720v720H120Zm60-500h600v-160H180v160Zm220 220h160v-160H400v160Zm0 220h160v-160H400v160ZM180-400h160v-160H180v160Zm440 0h160v-160H620v160ZM180-180h160v-160H180v160Zm440 0h160v-160H620v160Z\"/>\n",
              "  </svg>\n",
              "    </button>\n",
              "\n",
              "  <style>\n",
              "    .colab-df-container {\n",
              "      display:flex;\n",
              "      gap: 12px;\n",
              "    }\n",
              "\n",
              "    .colab-df-convert {\n",
              "      background-color: #E8F0FE;\n",
              "      border: none;\n",
              "      border-radius: 50%;\n",
              "      cursor: pointer;\n",
              "      display: none;\n",
              "      fill: #1967D2;\n",
              "      height: 32px;\n",
              "      padding: 0 0 0 0;\n",
              "      width: 32px;\n",
              "    }\n",
              "\n",
              "    .colab-df-convert:hover {\n",
              "      background-color: #E2EBFA;\n",
              "      box-shadow: 0px 1px 2px rgba(60, 64, 67, 0.3), 0px 1px 3px 1px rgba(60, 64, 67, 0.15);\n",
              "      fill: #174EA6;\n",
              "    }\n",
              "\n",
              "    .colab-df-buttons div {\n",
              "      margin-bottom: 4px;\n",
              "    }\n",
              "\n",
              "    [theme=dark] .colab-df-convert {\n",
              "      background-color: #3B4455;\n",
              "      fill: #D2E3FC;\n",
              "    }\n",
              "\n",
              "    [theme=dark] .colab-df-convert:hover {\n",
              "      background-color: #434B5C;\n",
              "      box-shadow: 0px 1px 3px 1px rgba(0, 0, 0, 0.15);\n",
              "      filter: drop-shadow(0px 1px 2px rgba(0, 0, 0, 0.3));\n",
              "      fill: #FFFFFF;\n",
              "    }\n",
              "  </style>\n",
              "\n",
              "    <script>\n",
              "      const buttonEl =\n",
              "        document.querySelector('#df-3647b3fb-7e90-42a4-872d-1f8fc7f90ee9 button.colab-df-convert');\n",
              "      buttonEl.style.display =\n",
              "        google.colab.kernel.accessAllowed ? 'block' : 'none';\n",
              "\n",
              "      async function convertToInteractive(key) {\n",
              "        const element = document.querySelector('#df-3647b3fb-7e90-42a4-872d-1f8fc7f90ee9');\n",
              "        const dataTable =\n",
              "          await google.colab.kernel.invokeFunction('convertToInteractive',\n",
              "                                                    [key], {});\n",
              "        if (!dataTable) return;\n",
              "\n",
              "        const docLinkHtml = 'Like what you see? Visit the ' +\n",
              "          '<a target=\"_blank\" href=https://colab.research.google.com/notebooks/data_table.ipynb>data table notebook</a>'\n",
              "          + ' to learn more about interactive tables.';\n",
              "        element.innerHTML = '';\n",
              "        dataTable['output_type'] = 'display_data';\n",
              "        await google.colab.output.renderOutput(dataTable, element);\n",
              "        const docLink = document.createElement('div');\n",
              "        docLink.innerHTML = docLinkHtml;\n",
              "        element.appendChild(docLink);\n",
              "      }\n",
              "    </script>\n",
              "  </div>\n",
              "\n",
              "\n",
              "<div id=\"df-bccb8982-b873-49d4-9b41-890e9d6ded8e\">\n",
              "  <button class=\"colab-df-quickchart\" onclick=\"quickchart('df-bccb8982-b873-49d4-9b41-890e9d6ded8e')\"\n",
              "            title=\"Suggest charts\"\n",
              "            style=\"display:none;\">\n",
              "\n",
              "<svg xmlns=\"http://www.w3.org/2000/svg\" height=\"24px\"viewBox=\"0 0 24 24\"\n",
              "     width=\"24px\">\n",
              "    <g>\n",
              "        <path d=\"M19 3H5c-1.1 0-2 .9-2 2v14c0 1.1.9 2 2 2h14c1.1 0 2-.9 2-2V5c0-1.1-.9-2-2-2zM9 17H7v-7h2v7zm4 0h-2V7h2v10zm4 0h-2v-4h2v4z\"/>\n",
              "    </g>\n",
              "</svg>\n",
              "  </button>\n",
              "\n",
              "<style>\n",
              "  .colab-df-quickchart {\n",
              "      --bg-color: #E8F0FE;\n",
              "      --fill-color: #1967D2;\n",
              "      --hover-bg-color: #E2EBFA;\n",
              "      --hover-fill-color: #174EA6;\n",
              "      --disabled-fill-color: #AAA;\n",
              "      --disabled-bg-color: #DDD;\n",
              "  }\n",
              "\n",
              "  [theme=dark] .colab-df-quickchart {\n",
              "      --bg-color: #3B4455;\n",
              "      --fill-color: #D2E3FC;\n",
              "      --hover-bg-color: #434B5C;\n",
              "      --hover-fill-color: #FFFFFF;\n",
              "      --disabled-bg-color: #3B4455;\n",
              "      --disabled-fill-color: #666;\n",
              "  }\n",
              "\n",
              "  .colab-df-quickchart {\n",
              "    background-color: var(--bg-color);\n",
              "    border: none;\n",
              "    border-radius: 50%;\n",
              "    cursor: pointer;\n",
              "    display: none;\n",
              "    fill: var(--fill-color);\n",
              "    height: 32px;\n",
              "    padding: 0;\n",
              "    width: 32px;\n",
              "  }\n",
              "\n",
              "  .colab-df-quickchart:hover {\n",
              "    background-color: var(--hover-bg-color);\n",
              "    box-shadow: 0 1px 2px rgba(60, 64, 67, 0.3), 0 1px 3px 1px rgba(60, 64, 67, 0.15);\n",
              "    fill: var(--button-hover-fill-color);\n",
              "  }\n",
              "\n",
              "  .colab-df-quickchart-complete:disabled,\n",
              "  .colab-df-quickchart-complete:disabled:hover {\n",
              "    background-color: var(--disabled-bg-color);\n",
              "    fill: var(--disabled-fill-color);\n",
              "    box-shadow: none;\n",
              "  }\n",
              "\n",
              "  .colab-df-spinner {\n",
              "    border: 2px solid var(--fill-color);\n",
              "    border-color: transparent;\n",
              "    border-bottom-color: var(--fill-color);\n",
              "    animation:\n",
              "      spin 1s steps(1) infinite;\n",
              "  }\n",
              "\n",
              "  @keyframes spin {\n",
              "    0% {\n",
              "      border-color: transparent;\n",
              "      border-bottom-color: var(--fill-color);\n",
              "      border-left-color: var(--fill-color);\n",
              "    }\n",
              "    20% {\n",
              "      border-color: transparent;\n",
              "      border-left-color: var(--fill-color);\n",
              "      border-top-color: var(--fill-color);\n",
              "    }\n",
              "    30% {\n",
              "      border-color: transparent;\n",
              "      border-left-color: var(--fill-color);\n",
              "      border-top-color: var(--fill-color);\n",
              "      border-right-color: var(--fill-color);\n",
              "    }\n",
              "    40% {\n",
              "      border-color: transparent;\n",
              "      border-right-color: var(--fill-color);\n",
              "      border-top-color: var(--fill-color);\n",
              "    }\n",
              "    60% {\n",
              "      border-color: transparent;\n",
              "      border-right-color: var(--fill-color);\n",
              "    }\n",
              "    80% {\n",
              "      border-color: transparent;\n",
              "      border-right-color: var(--fill-color);\n",
              "      border-bottom-color: var(--fill-color);\n",
              "    }\n",
              "    90% {\n",
              "      border-color: transparent;\n",
              "      border-bottom-color: var(--fill-color);\n",
              "    }\n",
              "  }\n",
              "</style>\n",
              "\n",
              "  <script>\n",
              "    async function quickchart(key) {\n",
              "      const quickchartButtonEl =\n",
              "        document.querySelector('#' + key + ' button');\n",
              "      quickchartButtonEl.disabled = true;  // To prevent multiple clicks.\n",
              "      quickchartButtonEl.classList.add('colab-df-spinner');\n",
              "      try {\n",
              "        const charts = await google.colab.kernel.invokeFunction(\n",
              "            'suggestCharts', [key], {});\n",
              "      } catch (error) {\n",
              "        console.error('Error during call to suggestCharts:', error);\n",
              "      }\n",
              "      quickchartButtonEl.classList.remove('colab-df-spinner');\n",
              "      quickchartButtonEl.classList.add('colab-df-quickchart-complete');\n",
              "    }\n",
              "    (() => {\n",
              "      let quickchartButtonEl =\n",
              "        document.querySelector('#df-bccb8982-b873-49d4-9b41-890e9d6ded8e button');\n",
              "      quickchartButtonEl.style.display =\n",
              "        google.colab.kernel.accessAllowed ? 'block' : 'none';\n",
              "    })();\n",
              "  </script>\n",
              "</div>\n",
              "\n",
              "    </div>\n",
              "  </div>\n"
            ],
            "application/vnd.google.colaboratory.intrinsic+json": {
              "type": "dataframe",
              "variable_name": "df",
              "summary": "{\n  \"name\": \"df\",\n  \"rows\": 1000,\n  \"fields\": [\n    {\n      \"column\": \"Review\",\n      \"properties\": {\n        \"dtype\": \"string\",\n        \"num_unique_values\": 996,\n        \"samples\": [\n          \"They were excellent.\",\n          \"Your servers suck, wait, correction, our server Heimer sucked.\",\n          \"Will be back again!\"\n        ],\n        \"semantic_type\": \"\",\n        \"description\": \"\"\n      }\n    },\n    {\n      \"column\": \"Liked\",\n      \"properties\": {\n        \"dtype\": \"number\",\n        \"std\": 0,\n        \"min\": 0,\n        \"max\": 1,\n        \"num_unique_values\": 2,\n        \"samples\": [\n          0,\n          1\n        ],\n        \"semantic_type\": \"\",\n        \"description\": \"\"\n      }\n    }\n  ]\n}"
            }
          },
          "metadata": {},
          "execution_count": 119
        }
      ]
    },
    {
      "cell_type": "code",
      "source": [
        "df.shape"
      ],
      "metadata": {
        "colab": {
          "base_uri": "https://localhost:8080/"
        },
        "id": "qT24X4tZGxd2",
        "outputId": "b9143670-ac28-4357-a78e-ee9fc5de9820"
      },
      "execution_count": 120,
      "outputs": [
        {
          "output_type": "execute_result",
          "data": {
            "text/plain": [
              "(1000, 2)"
            ]
          },
          "metadata": {},
          "execution_count": 120
        }
      ]
    },
    {
      "cell_type": "code",
      "source": [
        "from sklearn.feature_extraction.text import TfidfVectorizer"
      ],
      "metadata": {
        "id": "uFlYXZUVG2by"
      },
      "execution_count": 121,
      "outputs": []
    },
    {
      "cell_type": "code",
      "source": [
        "import string\n",
        "\n",
        "corpus=[]\n",
        "for i in range(0,1000):\n",
        "  reveiw=re.sub(pattern='[^a-zA-Z]',repl=' ',string=df['Review'][i])\n",
        "  reveiw=reveiw.lower()\n",
        "  reveiw_word=reveiw.split()\n",
        "  reveiw_word=[word for word in reveiw_word if not word in set(stopwords.words('english'))]\n",
        "  ps=PorterStemmer()\n",
        "  reveiw=[ps.stem(word) for word in reveiw_word]\n",
        "  reveiw=' '.join(reveiw)\n",
        "  corpus.append(reveiw)"
      ],
      "metadata": {
        "id": "WLVH6Kr1G61X"
      },
      "execution_count": 122,
      "outputs": []
    },
    {
      "cell_type": "code",
      "source": [
        "corpus[:10]"
      ],
      "metadata": {
        "colab": {
          "base_uri": "https://localhost:8080/"
        },
        "id": "zaNUMzfiH8pk",
        "outputId": "e33a06d6-893c-423b-c329-a0f302a88a42"
      },
      "execution_count": 123,
      "outputs": [
        {
          "output_type": "execute_result",
          "data": {
            "text/plain": [
              "['wow love place',\n",
              " 'crust good',\n",
              " 'tasti textur nasti',\n",
              " 'stop late may bank holiday rick steve recommend love',\n",
              " 'select menu great price',\n",
              " 'get angri want damn pho',\n",
              " 'honeslti tast fresh',\n",
              " 'potato like rubber could tell made ahead time kept warmer',\n",
              " 'fri great',\n",
              " 'great touch']"
            ]
          },
          "metadata": {},
          "execution_count": 123
        }
      ]
    },
    {
      "cell_type": "code",
      "source": [
        "vectorizer = TfidfVectorizer()\n",
        "X = vectorizer.fit_transform(corpus)\n",
        "\n",
        "\n",
        "tfidf_df= pd.DataFrame(data=X.todense(), columns=vectorizer.get_feature_names_out())\n",
        "print(\"TF-IDF Matrix:\")\n",
        "print(tfidf_df.tail(30))"
      ],
      "metadata": {
        "colab": {
          "base_uri": "https://localhost:8080/"
        },
        "id": "3kAOTbVCICG1",
        "outputId": "785af7f0-84ea-453e-b451-0082920f8922"
      },
      "execution_count": 124,
      "outputs": [
        {
          "output_type": "stream",
          "name": "stdout",
          "text": [
            "TF-IDF Matrix:\n",
            "     absolut  absolutley  accid  accommod  accomod  accordingli  account  ach  \\\n",
            "970      0.0         0.0    0.0       0.0      0.0          0.0      0.0  0.0   \n",
            "971      0.0         0.0    0.0       0.0      0.0          0.0      0.0  0.0   \n",
            "972      0.0         0.0    0.0       0.0      0.0          0.0      0.0  0.0   \n",
            "973      0.0         0.0    0.0       0.0      0.0          0.0      0.0  0.0   \n",
            "974      0.0         0.0    0.0       0.0      0.0          0.0      0.0  0.0   \n",
            "975      0.0         0.0    0.0       0.0      0.0          0.0      0.0  0.0   \n",
            "976      0.0         0.0    0.0       0.0      0.0          0.0      0.0  0.0   \n",
            "977      0.0         0.0    0.0       0.0      0.0          0.0      0.0  0.0   \n",
            "978      0.0         0.0    0.0       0.0      0.0          0.0      0.0  0.0   \n",
            "979      0.0         0.0    0.0       0.0      0.0          0.0      0.0  0.0   \n",
            "980      0.0         0.0    0.0       0.0      0.0          0.0      0.0  0.0   \n",
            "981      0.0         0.0    0.0       0.0      0.0          0.0      0.0  0.0   \n",
            "982      0.0         0.0    0.0       0.0      0.0          0.0      0.0  0.0   \n",
            "983      0.0         0.0    0.0       0.0      0.0          0.0      0.0  0.0   \n",
            "984      0.0         0.0    0.0       0.0      0.0          0.0      0.0  0.0   \n",
            "985      0.0         0.0    0.0       0.0      0.0          0.0      0.0  0.0   \n",
            "986      0.0         0.0    0.0       0.0      0.0          0.0      0.0  0.0   \n",
            "987      0.0         0.0    0.0       0.0      0.0          0.0      0.0  0.0   \n",
            "988      0.0         0.0    0.0       0.0      0.0          0.0      0.0  0.0   \n",
            "989      0.0         0.0    0.0       0.0      0.0          0.0      0.0  0.0   \n",
            "990      0.0         0.0    0.0       0.0      0.0          0.0      0.0  0.0   \n",
            "991      0.0         0.0    0.0       0.0      0.0          0.0      0.0  0.0   \n",
            "992      0.0         0.0    0.0       0.0      0.0          0.0      0.0  0.0   \n",
            "993      0.0         0.0    0.0       0.0      0.0          0.0      0.0  0.0   \n",
            "994      0.0         0.0    0.0       0.0      0.0          0.0      0.0  0.0   \n",
            "995      0.0         0.0    0.0       0.0      0.0          0.0      0.0  0.0   \n",
            "996      0.0         0.0    0.0       0.0      0.0          0.0      0.0  0.0   \n",
            "997      0.0         0.0    0.0       0.0      0.0          0.0      0.0  0.0   \n",
            "998      0.0         0.0    0.0       0.0      0.0          0.0      0.0  0.0   \n",
            "999      0.0         0.0    0.0       0.0      0.0          0.0      0.0  0.0   \n",
            "\n",
            "     acknowledg  across  ...  year  yellow  yellowtail  yelper       yet  \\\n",
            "970         0.0     0.0  ...   0.0     0.0         0.0     0.0  0.000000   \n",
            "971         0.0     0.0  ...   0.0     0.0         0.0     0.0  0.000000   \n",
            "972         0.0     0.0  ...   0.0     0.0         0.0     0.0  0.000000   \n",
            "973         0.0     0.0  ...   0.0     0.0         0.0     0.0  0.000000   \n",
            "974         0.0     0.0  ...   0.0     0.0         0.0     0.0  0.000000   \n",
            "975         0.0     0.0  ...   0.0     0.0         0.0     0.0  0.000000   \n",
            "976         0.0     0.0  ...   0.0     0.0         0.0     0.0  0.000000   \n",
            "977         0.0     0.0  ...   0.0     0.0         0.0     0.0  0.000000   \n",
            "978         0.0     0.0  ...   0.0     0.0         0.0     0.0  0.000000   \n",
            "979         0.0     0.0  ...   0.0     0.0         0.0     0.0  0.397438   \n",
            "980         0.0     0.0  ...   0.0     0.0         0.0     0.0  0.000000   \n",
            "981         0.0     0.0  ...   0.0     0.0         0.0     0.0  0.000000   \n",
            "982         0.0     0.0  ...   0.0     0.0         0.0     0.0  0.000000   \n",
            "983         0.0     0.0  ...   0.0     0.0         0.0     0.0  0.000000   \n",
            "984         0.0     0.0  ...   0.0     0.0         0.0     0.0  0.000000   \n",
            "985         0.0     0.0  ...   0.0     0.0         0.0     0.0  0.000000   \n",
            "986         0.0     0.0  ...   0.0     0.0         0.0     0.0  0.000000   \n",
            "987         0.0     0.0  ...   0.0     0.0         0.0     0.0  0.000000   \n",
            "988         0.0     0.0  ...   0.0     0.0         0.0     0.0  0.000000   \n",
            "989         0.0     0.0  ...   0.0     0.0         0.0     0.0  0.000000   \n",
            "990         0.0     0.0  ...   0.0     0.0         0.0     0.0  0.000000   \n",
            "991         0.0     0.0  ...   0.0     0.0         0.0     0.0  0.000000   \n",
            "992         0.0     0.0  ...   0.0     0.0         0.0     0.0  0.000000   \n",
            "993         0.0     0.0  ...   0.0     0.0         0.0     0.0  0.000000   \n",
            "994         0.0     0.0  ...   0.0     0.0         0.0     0.0  0.000000   \n",
            "995         0.0     0.0  ...   0.0     0.0         0.0     0.0  0.000000   \n",
            "996         0.0     0.0  ...   0.0     0.0         0.0     0.0  0.000000   \n",
            "997         0.0     0.0  ...   0.0     0.0         0.0     0.0  0.000000   \n",
            "998         0.0     0.0  ...   0.0     0.0         0.0     0.0  0.000000   \n",
            "999         0.0     0.0  ...   0.0     0.0         0.0     0.0  0.000000   \n",
            "\n",
            "     yucki  yukon  yum  yummi  zero  \n",
            "970    0.0    0.0  0.0    0.0   0.0  \n",
            "971    0.0    0.0  0.0    0.0   0.0  \n",
            "972    0.0    0.0  0.0    0.0   0.0  \n",
            "973    0.0    0.0  0.0    0.0   0.0  \n",
            "974    0.0    0.0  0.0    0.0   0.0  \n",
            "975    0.0    0.0  0.0    0.0   0.0  \n",
            "976    0.0    0.0  0.0    0.0   0.0  \n",
            "977    0.0    0.0  0.0    0.0   0.0  \n",
            "978    0.0    0.0  0.0    0.0   0.0  \n",
            "979    0.0    0.0  0.0    0.0   0.0  \n",
            "980    0.0    0.0  0.0    0.0   0.0  \n",
            "981    0.0    0.0  0.0    0.0   0.0  \n",
            "982    0.0    0.0  0.0    0.0   0.0  \n",
            "983    0.0    0.0  0.0    0.0   0.0  \n",
            "984    0.0    0.0  0.0    0.0   0.0  \n",
            "985    0.0    0.0  0.0    0.0   0.0  \n",
            "986    0.0    0.0  0.0    0.0   0.0  \n",
            "987    0.0    0.0  0.0    0.0   0.0  \n",
            "988    0.0    0.0  0.0    0.0   0.0  \n",
            "989    0.0    0.0  0.0    0.0   0.0  \n",
            "990    0.0    0.0  0.0    0.0   0.0  \n",
            "991    0.0    0.0  0.0    0.0   0.0  \n",
            "992    0.0    0.0  0.0    0.0   0.0  \n",
            "993    0.0    0.0  0.0    0.0   0.0  \n",
            "994    0.0    0.0  0.0    0.0   0.0  \n",
            "995    0.0    0.0  0.0    0.0   0.0  \n",
            "996    0.0    0.0  0.0    0.0   0.0  \n",
            "997    0.0    0.0  0.0    0.0   0.0  \n",
            "998    0.0    0.0  0.0    0.0   0.0  \n",
            "999    0.0    0.0  0.0    0.0   0.0  \n",
            "\n",
            "[30 rows x 1565 columns]\n"
          ]
        }
      ]
    },
    {
      "cell_type": "code",
      "source": [
        "import numpy as np\n",
        "from sklearn.decomposition import PCA\n",
        "from sklearn.preprocessing import StandardScaler"
      ],
      "metadata": {
        "id": "n0l9BmX8f3ar"
      },
      "execution_count": 125,
      "outputs": []
    },
    {
      "cell_type": "code",
      "source": [
        "scaler = StandardScaler()\n",
        "data_standardized = scaler.fit_transform(tfidf_df)"
      ],
      "metadata": {
        "id": "jt4Tpes3f-F_"
      },
      "execution_count": 126,
      "outputs": []
    },
    {
      "cell_type": "code",
      "source": [
        "# Step 2: Apply PCA\n",
        "pca = PCA(n_components=2)  # Reduce to 2 dimensions\n",
        "principal_components = pca.fit_transform(data_standardized)"
      ],
      "metadata": {
        "id": "G-x0hohHgG86"
      },
      "execution_count": 127,
      "outputs": []
    },
    {
      "cell_type": "code",
      "source": [
        "df.head()"
      ],
      "metadata": {
        "colab": {
          "base_uri": "https://localhost:8080/",
          "height": 206
        },
        "id": "56-MAHRmXRZD",
        "outputId": "cdeb16a8-7a13-433c-a7b7-a0eb09ae75f4"
      },
      "execution_count": 128,
      "outputs": [
        {
          "output_type": "execute_result",
          "data": {
            "text/plain": [
              "                                              Review  Liked\n",
              "0                           Wow... Loved this place.      1\n",
              "1                                 Crust is not good.      0\n",
              "2          Not tasty and the texture was just nasty.      0\n",
              "3  Stopped by during the late May bank holiday of...      1\n",
              "4  The selection on the menu was great and so wer...      1"
            ],
            "text/html": [
              "\n",
              "  <div id=\"df-513e1f25-3265-4598-b4d2-bab87a479057\" class=\"colab-df-container\">\n",
              "    <div>\n",
              "<style scoped>\n",
              "    .dataframe tbody tr th:only-of-type {\n",
              "        vertical-align: middle;\n",
              "    }\n",
              "\n",
              "    .dataframe tbody tr th {\n",
              "        vertical-align: top;\n",
              "    }\n",
              "\n",
              "    .dataframe thead th {\n",
              "        text-align: right;\n",
              "    }\n",
              "</style>\n",
              "<table border=\"1\" class=\"dataframe\">\n",
              "  <thead>\n",
              "    <tr style=\"text-align: right;\">\n",
              "      <th></th>\n",
              "      <th>Review</th>\n",
              "      <th>Liked</th>\n",
              "    </tr>\n",
              "  </thead>\n",
              "  <tbody>\n",
              "    <tr>\n",
              "      <th>0</th>\n",
              "      <td>Wow... Loved this place.</td>\n",
              "      <td>1</td>\n",
              "    </tr>\n",
              "    <tr>\n",
              "      <th>1</th>\n",
              "      <td>Crust is not good.</td>\n",
              "      <td>0</td>\n",
              "    </tr>\n",
              "    <tr>\n",
              "      <th>2</th>\n",
              "      <td>Not tasty and the texture was just nasty.</td>\n",
              "      <td>0</td>\n",
              "    </tr>\n",
              "    <tr>\n",
              "      <th>3</th>\n",
              "      <td>Stopped by during the late May bank holiday of...</td>\n",
              "      <td>1</td>\n",
              "    </tr>\n",
              "    <tr>\n",
              "      <th>4</th>\n",
              "      <td>The selection on the menu was great and so wer...</td>\n",
              "      <td>1</td>\n",
              "    </tr>\n",
              "  </tbody>\n",
              "</table>\n",
              "</div>\n",
              "    <div class=\"colab-df-buttons\">\n",
              "\n",
              "  <div class=\"colab-df-container\">\n",
              "    <button class=\"colab-df-convert\" onclick=\"convertToInteractive('df-513e1f25-3265-4598-b4d2-bab87a479057')\"\n",
              "            title=\"Convert this dataframe to an interactive table.\"\n",
              "            style=\"display:none;\">\n",
              "\n",
              "  <svg xmlns=\"http://www.w3.org/2000/svg\" height=\"24px\" viewBox=\"0 -960 960 960\">\n",
              "    <path d=\"M120-120v-720h720v720H120Zm60-500h600v-160H180v160Zm220 220h160v-160H400v160Zm0 220h160v-160H400v160ZM180-400h160v-160H180v160Zm440 0h160v-160H620v160ZM180-180h160v-160H180v160Zm440 0h160v-160H620v160Z\"/>\n",
              "  </svg>\n",
              "    </button>\n",
              "\n",
              "  <style>\n",
              "    .colab-df-container {\n",
              "      display:flex;\n",
              "      gap: 12px;\n",
              "    }\n",
              "\n",
              "    .colab-df-convert {\n",
              "      background-color: #E8F0FE;\n",
              "      border: none;\n",
              "      border-radius: 50%;\n",
              "      cursor: pointer;\n",
              "      display: none;\n",
              "      fill: #1967D2;\n",
              "      height: 32px;\n",
              "      padding: 0 0 0 0;\n",
              "      width: 32px;\n",
              "    }\n",
              "\n",
              "    .colab-df-convert:hover {\n",
              "      background-color: #E2EBFA;\n",
              "      box-shadow: 0px 1px 2px rgba(60, 64, 67, 0.3), 0px 1px 3px 1px rgba(60, 64, 67, 0.15);\n",
              "      fill: #174EA6;\n",
              "    }\n",
              "\n",
              "    .colab-df-buttons div {\n",
              "      margin-bottom: 4px;\n",
              "    }\n",
              "\n",
              "    [theme=dark] .colab-df-convert {\n",
              "      background-color: #3B4455;\n",
              "      fill: #D2E3FC;\n",
              "    }\n",
              "\n",
              "    [theme=dark] .colab-df-convert:hover {\n",
              "      background-color: #434B5C;\n",
              "      box-shadow: 0px 1px 3px 1px rgba(0, 0, 0, 0.15);\n",
              "      filter: drop-shadow(0px 1px 2px rgba(0, 0, 0, 0.3));\n",
              "      fill: #FFFFFF;\n",
              "    }\n",
              "  </style>\n",
              "\n",
              "    <script>\n",
              "      const buttonEl =\n",
              "        document.querySelector('#df-513e1f25-3265-4598-b4d2-bab87a479057 button.colab-df-convert');\n",
              "      buttonEl.style.display =\n",
              "        google.colab.kernel.accessAllowed ? 'block' : 'none';\n",
              "\n",
              "      async function convertToInteractive(key) {\n",
              "        const element = document.querySelector('#df-513e1f25-3265-4598-b4d2-bab87a479057');\n",
              "        const dataTable =\n",
              "          await google.colab.kernel.invokeFunction('convertToInteractive',\n",
              "                                                    [key], {});\n",
              "        if (!dataTable) return;\n",
              "\n",
              "        const docLinkHtml = 'Like what you see? Visit the ' +\n",
              "          '<a target=\"_blank\" href=https://colab.research.google.com/notebooks/data_table.ipynb>data table notebook</a>'\n",
              "          + ' to learn more about interactive tables.';\n",
              "        element.innerHTML = '';\n",
              "        dataTable['output_type'] = 'display_data';\n",
              "        await google.colab.output.renderOutput(dataTable, element);\n",
              "        const docLink = document.createElement('div');\n",
              "        docLink.innerHTML = docLinkHtml;\n",
              "        element.appendChild(docLink);\n",
              "      }\n",
              "    </script>\n",
              "  </div>\n",
              "\n",
              "\n",
              "<div id=\"df-7db69e43-45d1-472e-90ff-d1a2ce71a7a4\">\n",
              "  <button class=\"colab-df-quickchart\" onclick=\"quickchart('df-7db69e43-45d1-472e-90ff-d1a2ce71a7a4')\"\n",
              "            title=\"Suggest charts\"\n",
              "            style=\"display:none;\">\n",
              "\n",
              "<svg xmlns=\"http://www.w3.org/2000/svg\" height=\"24px\"viewBox=\"0 0 24 24\"\n",
              "     width=\"24px\">\n",
              "    <g>\n",
              "        <path d=\"M19 3H5c-1.1 0-2 .9-2 2v14c0 1.1.9 2 2 2h14c1.1 0 2-.9 2-2V5c0-1.1-.9-2-2-2zM9 17H7v-7h2v7zm4 0h-2V7h2v10zm4 0h-2v-4h2v4z\"/>\n",
              "    </g>\n",
              "</svg>\n",
              "  </button>\n",
              "\n",
              "<style>\n",
              "  .colab-df-quickchart {\n",
              "      --bg-color: #E8F0FE;\n",
              "      --fill-color: #1967D2;\n",
              "      --hover-bg-color: #E2EBFA;\n",
              "      --hover-fill-color: #174EA6;\n",
              "      --disabled-fill-color: #AAA;\n",
              "      --disabled-bg-color: #DDD;\n",
              "  }\n",
              "\n",
              "  [theme=dark] .colab-df-quickchart {\n",
              "      --bg-color: #3B4455;\n",
              "      --fill-color: #D2E3FC;\n",
              "      --hover-bg-color: #434B5C;\n",
              "      --hover-fill-color: #FFFFFF;\n",
              "      --disabled-bg-color: #3B4455;\n",
              "      --disabled-fill-color: #666;\n",
              "  }\n",
              "\n",
              "  .colab-df-quickchart {\n",
              "    background-color: var(--bg-color);\n",
              "    border: none;\n",
              "    border-radius: 50%;\n",
              "    cursor: pointer;\n",
              "    display: none;\n",
              "    fill: var(--fill-color);\n",
              "    height: 32px;\n",
              "    padding: 0;\n",
              "    width: 32px;\n",
              "  }\n",
              "\n",
              "  .colab-df-quickchart:hover {\n",
              "    background-color: var(--hover-bg-color);\n",
              "    box-shadow: 0 1px 2px rgba(60, 64, 67, 0.3), 0 1px 3px 1px rgba(60, 64, 67, 0.15);\n",
              "    fill: var(--button-hover-fill-color);\n",
              "  }\n",
              "\n",
              "  .colab-df-quickchart-complete:disabled,\n",
              "  .colab-df-quickchart-complete:disabled:hover {\n",
              "    background-color: var(--disabled-bg-color);\n",
              "    fill: var(--disabled-fill-color);\n",
              "    box-shadow: none;\n",
              "  }\n",
              "\n",
              "  .colab-df-spinner {\n",
              "    border: 2px solid var(--fill-color);\n",
              "    border-color: transparent;\n",
              "    border-bottom-color: var(--fill-color);\n",
              "    animation:\n",
              "      spin 1s steps(1) infinite;\n",
              "  }\n",
              "\n",
              "  @keyframes spin {\n",
              "    0% {\n",
              "      border-color: transparent;\n",
              "      border-bottom-color: var(--fill-color);\n",
              "      border-left-color: var(--fill-color);\n",
              "    }\n",
              "    20% {\n",
              "      border-color: transparent;\n",
              "      border-left-color: var(--fill-color);\n",
              "      border-top-color: var(--fill-color);\n",
              "    }\n",
              "    30% {\n",
              "      border-color: transparent;\n",
              "      border-left-color: var(--fill-color);\n",
              "      border-top-color: var(--fill-color);\n",
              "      border-right-color: var(--fill-color);\n",
              "    }\n",
              "    40% {\n",
              "      border-color: transparent;\n",
              "      border-right-color: var(--fill-color);\n",
              "      border-top-color: var(--fill-color);\n",
              "    }\n",
              "    60% {\n",
              "      border-color: transparent;\n",
              "      border-right-color: var(--fill-color);\n",
              "    }\n",
              "    80% {\n",
              "      border-color: transparent;\n",
              "      border-right-color: var(--fill-color);\n",
              "      border-bottom-color: var(--fill-color);\n",
              "    }\n",
              "    90% {\n",
              "      border-color: transparent;\n",
              "      border-bottom-color: var(--fill-color);\n",
              "    }\n",
              "  }\n",
              "</style>\n",
              "\n",
              "  <script>\n",
              "    async function quickchart(key) {\n",
              "      const quickchartButtonEl =\n",
              "        document.querySelector('#' + key + ' button');\n",
              "      quickchartButtonEl.disabled = true;  // To prevent multiple clicks.\n",
              "      quickchartButtonEl.classList.add('colab-df-spinner');\n",
              "      try {\n",
              "        const charts = await google.colab.kernel.invokeFunction(\n",
              "            'suggestCharts', [key], {});\n",
              "      } catch (error) {\n",
              "        console.error('Error during call to suggestCharts:', error);\n",
              "      }\n",
              "      quickchartButtonEl.classList.remove('colab-df-spinner');\n",
              "      quickchartButtonEl.classList.add('colab-df-quickchart-complete');\n",
              "    }\n",
              "    (() => {\n",
              "      let quickchartButtonEl =\n",
              "        document.querySelector('#df-7db69e43-45d1-472e-90ff-d1a2ce71a7a4 button');\n",
              "      quickchartButtonEl.style.display =\n",
              "        google.colab.kernel.accessAllowed ? 'block' : 'none';\n",
              "    })();\n",
              "  </script>\n",
              "</div>\n",
              "\n",
              "    </div>\n",
              "  </div>\n"
            ],
            "application/vnd.google.colaboratory.intrinsic+json": {
              "type": "dataframe",
              "variable_name": "df",
              "summary": "{\n  \"name\": \"df\",\n  \"rows\": 1000,\n  \"fields\": [\n    {\n      \"column\": \"Review\",\n      \"properties\": {\n        \"dtype\": \"string\",\n        \"num_unique_values\": 996,\n        \"samples\": [\n          \"They were excellent.\",\n          \"Your servers suck, wait, correction, our server Heimer sucked.\",\n          \"Will be back again!\"\n        ],\n        \"semantic_type\": \"\",\n        \"description\": \"\"\n      }\n    },\n    {\n      \"column\": \"Liked\",\n      \"properties\": {\n        \"dtype\": \"number\",\n        \"std\": 0,\n        \"min\": 0,\n        \"max\": 1,\n        \"num_unique_values\": 2,\n        \"samples\": [\n          0,\n          1\n        ],\n        \"semantic_type\": \"\",\n        \"description\": \"\"\n      }\n    }\n  ]\n}"
            }
          },
          "metadata": {},
          "execution_count": 128
        }
      ]
    },
    {
      "cell_type": "code",
      "source": [
        "df.columns"
      ],
      "metadata": {
        "colab": {
          "base_uri": "https://localhost:8080/"
        },
        "id": "IOj83m0TYfTp",
        "outputId": "1b621847-164a-474e-b9cc-1d0790730258"
      },
      "execution_count": 129,
      "outputs": [
        {
          "output_type": "execute_result",
          "data": {
            "text/plain": [
              "Index(['Review', 'Liked'], dtype='object')"
            ]
          },
          "metadata": {},
          "execution_count": 129
        }
      ]
    },
    {
      "cell_type": "code",
      "source": [
        "y = df['Liked']\n",
        "from sklearn.model_selection import train_test_split\n",
        "X_train,X_test,y_train,y_test=train_test_split(X,y,test_size=0.2,random_state=42)\n"
      ],
      "metadata": {
        "id": "oMwTygifIHCZ"
      },
      "execution_count": 130,
      "outputs": []
    },
    {
      "cell_type": "code",
      "source": [
        "from sklearn.naive_bayes import GaussianNB,MultinomialNB,BernoulliNB\n",
        "clf1=GaussianNB()\n",
        "clf2=MultinomialNB()\n",
        "clf3=BernoulliNB()"
      ],
      "metadata": {
        "id": "69HYwo1KJZS0"
      },
      "execution_count": 131,
      "outputs": []
    },
    {
      "cell_type": "code",
      "source": [
        "X_train_dense = X_train.toarray()\n",
        "X_test_dense = X_test.toarray()"
      ],
      "metadata": {
        "id": "aIV_DkLEdLyz"
      },
      "execution_count": 132,
      "outputs": []
    },
    {
      "cell_type": "code",
      "source": [
        "from sklearn.metrics import accuracy_score, classification_report"
      ],
      "metadata": {
        "id": "CwDhif7gdz8X"
      },
      "execution_count": 133,
      "outputs": []
    },
    {
      "cell_type": "code",
      "source": [
        "# Fit GaussianNB (requires dense data)\n",
        "clf1.fit(X_train_dense, y_train)\n",
        "y_pred_gnb = clf1.predict(X_test_dense)\n",
        "print(\"\\nGaussianNB Accuracy:\", accuracy_score(y_test, y_pred_gnb))\n",
        "print(\"\\nGaussianNB Classification Report:\\n\", classification_report(y_test, y_pred_gnb))"
      ],
      "metadata": {
        "colab": {
          "base_uri": "https://localhost:8080/"
        },
        "id": "pdag2Ui2drUz",
        "outputId": "bbc07039-0b7f-4ab9-b11d-a295813da6ad"
      },
      "execution_count": 134,
      "outputs": [
        {
          "output_type": "stream",
          "name": "stdout",
          "text": [
            "\n",
            "GaussianNB Accuracy: 0.69\n",
            "\n",
            "GaussianNB Classification Report:\n",
            "               precision    recall  f1-score   support\n",
            "\n",
            "           0       0.73      0.56      0.64        96\n",
            "           1       0.67      0.81      0.73       104\n",
            "\n",
            "    accuracy                           0.69       200\n",
            "   macro avg       0.70      0.69      0.68       200\n",
            "weighted avg       0.70      0.69      0.68       200\n",
            "\n"
          ]
        }
      ]
    },
    {
      "cell_type": "code",
      "source": [
        "# Fit MultinomialNB (works with sparse data)\n",
        "clf2.fit(X_train, y_train)\n",
        "y_pred_mnb = clf2.predict(X_test)\n",
        "print(\"\\nMultinomialNB Accuracy:\", accuracy_score(y_test, y_pred_mnb))\n",
        "print(\"\\nMultinomialNB Classification Report:\\n\", classification_report(y_test, y_pred_mnb))"
      ],
      "metadata": {
        "colab": {
          "base_uri": "https://localhost:8080/"
        },
        "id": "eV71ieDbdsIk",
        "outputId": "8e629ff3-b209-4773-f574-055b0da0c333"
      },
      "execution_count": 135,
      "outputs": [
        {
          "output_type": "stream",
          "name": "stdout",
          "text": [
            "\n",
            "MultinomialNB Accuracy: 0.745\n",
            "\n",
            "MultinomialNB Classification Report:\n",
            "               precision    recall  f1-score   support\n",
            "\n",
            "           0       0.72      0.76      0.74        96\n",
            "           1       0.77      0.73      0.75       104\n",
            "\n",
            "    accuracy                           0.74       200\n",
            "   macro avg       0.75      0.75      0.74       200\n",
            "weighted avg       0.75      0.74      0.75       200\n",
            "\n"
          ]
        }
      ]
    },
    {
      "cell_type": "code",
      "source": [
        "# Fit BernoulliNB (works with sparse data)\n",
        "clf3.fit(X_train, y_train)\n",
        "y_pred_bnb = clf3.predict(X_test)\n",
        "print(\"\\nBernoulliNB Accuracy:\", accuracy_score(y_test, y_pred_bnb))\n",
        "print(\"\\nBernoulliNB Classification Report:\\n\", classification_report(y_test, y_pred_bnb))"
      ],
      "metadata": {
        "colab": {
          "base_uri": "https://localhost:8080/"
        },
        "id": "XuSOve6zeEKo",
        "outputId": "e49fa1e3-b007-49e2-a187-c8b3b19c2b01"
      },
      "execution_count": 136,
      "outputs": [
        {
          "output_type": "stream",
          "name": "stdout",
          "text": [
            "\n",
            "BernoulliNB Accuracy: 0.745\n",
            "\n",
            "BernoulliNB Classification Report:\n",
            "               precision    recall  f1-score   support\n",
            "\n",
            "           0       0.73      0.74      0.74        96\n",
            "           1       0.76      0.75      0.75       104\n",
            "\n",
            "    accuracy                           0.74       200\n",
            "   macro avg       0.74      0.74      0.74       200\n",
            "weighted avg       0.75      0.74      0.75       200\n",
            "\n"
          ]
        }
      ]
    },
    {
      "cell_type": "code",
      "source": [
        "from sklearn.linear_model import LogisticRegression\n",
        "clf4 = LogisticRegression(max_iter=1000)\n",
        "\n",
        "# Fit Logistic Regression\n",
        "clf4.fit(X_train, y_train)\n",
        "y_pred_lr = clf4.predict(X_test)\n",
        "print(\"\\nLogistic Regression Accuracy:\", accuracy_score(y_test, y_pred_lr))\n",
        "print(\"\\nLogistic Regression Classification Report:\\n\", classification_report(y_test, y_pred_lr))"
      ],
      "metadata": {
        "colab": {
          "base_uri": "https://localhost:8080/"
        },
        "id": "3X8TswbBevOH",
        "outputId": "8757768f-838a-4d5e-ff0e-0a2f38ab2a10"
      },
      "execution_count": 137,
      "outputs": [
        {
          "output_type": "stream",
          "name": "stdout",
          "text": [
            "\n",
            "Logistic Regression Accuracy: 0.74\n",
            "\n",
            "Logistic Regression Classification Report:\n",
            "               precision    recall  f1-score   support\n",
            "\n",
            "           0       0.68      0.85      0.76        96\n",
            "           1       0.82      0.63      0.72       104\n",
            "\n",
            "    accuracy                           0.74       200\n",
            "   macro avg       0.75      0.74      0.74       200\n",
            "weighted avg       0.76      0.74      0.74       200\n",
            "\n"
          ]
        }
      ]
    },
    {
      "cell_type": "code",
      "source": [
        "from sklearn.ensemble import RandomForestClassifier\n",
        "clf5 = RandomForestClassifier(n_estimators=100)\n",
        "\n",
        "# Fit Random Forest Classifier\n",
        "clf5.fit(X_train, y_train)\n",
        "y_pred_rf = clf5.predict(X_test)\n",
        "print(\"\\nRandom Forest Accuracy:\", accuracy_score(y_test, y_pred_rf))\n",
        "print(\"\\nRandom Forest Classification Report:\\n\", classification_report(y_test, y_pred_rf))"
      ],
      "metadata": {
        "colab": {
          "base_uri": "https://localhost:8080/"
        },
        "id": "nkaZIu3De__j",
        "outputId": "90a5cb97-63cc-4e09-d54d-957a99d52091"
      },
      "execution_count": 138,
      "outputs": [
        {
          "output_type": "stream",
          "name": "stdout",
          "text": [
            "\n",
            "Random Forest Accuracy: 0.7\n",
            "\n",
            "Random Forest Classification Report:\n",
            "               precision    recall  f1-score   support\n",
            "\n",
            "           0       0.64      0.88      0.74        96\n",
            "           1       0.82      0.54      0.65       104\n",
            "\n",
            "    accuracy                           0.70       200\n",
            "   macro avg       0.73      0.71      0.69       200\n",
            "weighted avg       0.73      0.70      0.69       200\n",
            "\n"
          ]
        }
      ]
    },
    {
      "cell_type": "code",
      "source": [
        "from sklearn.svm import SVC\n",
        "clf6 = SVC()\n",
        "\n",
        "# Fit Support Vector Machine\n",
        "clf6.fit(X_train, y_train)\n",
        "y_pred_svc = clf6.predict(X_test)\n",
        "print(\"\\nSVM Accuracy:\", accuracy_score(y_test, y_pred_svc))\n",
        "print(\"\\nSVM Classification Report:\\n\", classification_report(y_test, y_pred_svc))"
      ],
      "metadata": {
        "colab": {
          "base_uri": "https://localhost:8080/"
        },
        "id": "fDQo6SvGfGCS",
        "outputId": "d3767796-2981-4363-b04a-2eaca33188b5"
      },
      "execution_count": 139,
      "outputs": [
        {
          "output_type": "stream",
          "name": "stdout",
          "text": [
            "\n",
            "SVM Accuracy: 0.74\n",
            "\n",
            "SVM Classification Report:\n",
            "               precision    recall  f1-score   support\n",
            "\n",
            "           0       0.68      0.86      0.76        96\n",
            "           1       0.83      0.62      0.71       104\n",
            "\n",
            "    accuracy                           0.74       200\n",
            "   macro avg       0.76      0.74      0.74       200\n",
            "weighted avg       0.76      0.74      0.74       200\n",
            "\n"
          ]
        }
      ]
    }
  ]
}